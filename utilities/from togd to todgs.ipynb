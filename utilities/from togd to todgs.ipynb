{
 "cells": [
  {
   "cell_type": "code",
   "execution_count": 21,
   "metadata": {
    "collapsed": false
   },
   "outputs": [],
   "source": [
    "import os\n",
    "from sets import Set\n",
    "\n",
    "f = open(\"tds.txt\", \"w\")\n",
    "\n",
    "rootDir = 'stocks'\n",
    "\n",
    "for dirName, subdirList, fn in os.walk(rootDir):\n",
    "    \n",
    "    for n in fn:\n",
    "        ff = open(dirName+'/'+n, \"r\")\n",
    "        for line in ff:\n",
    "            fields = line.split(',')\n",
    "            \n",
    "            if len(fields) == 8:\n",
    "                if not fields[7] == 'sentiment\\n':\n",
    "                    #print n, fields[7]\n",
    "                    if not fields[7][0] == \"0\" and not fields[7][0] == \"-\":\n",
    "                        fields[7] = \"0.0\\n\"\n",
    "                    f.write(n[:-4]+','+fields[1]+','+fields[7])\n",
    "        ff.close()\n",
    "f.close()\n",
    "        \n"
   ]
  },
  {
   "cell_type": "code",
   "execution_count": 28,
   "metadata": {
    "collapsed": false
   },
   "outputs": [],
   "source": [
    "ftds = open('tds.txt', 'r')\n",
    "ftogd = open('togd.txt', 'r')\n",
    "ftogds = open('togds.txt', 'w')\n",
    "\n",
    "lt = {}\n",
    "\n",
    "for line in ftds:\n",
    "    fields = line.split(',')\n",
    "    lt[fields[0]+fields[1]] = fields[2]\n",
    "ftds.close()\n",
    "\n",
    "for line in ftogd:\n",
    "    fields = line.split(\",\")\n",
    "    s = lt.get(fields[0]+fields[3][:-1], 'none')\n",
    "    if not s == 'none':\n",
    "        ftogds.write(line[:-1]+','+s)\n",
    "ftogd.close()\n",
    "ftogds.close()\n",
    "    \n",
    "    \n"
   ]
  },
  {
   "cell_type": "code",
   "execution_count": null,
   "metadata": {
    "collapsed": true
   },
   "outputs": [],
   "source": []
  },
  {
   "cell_type": "code",
   "execution_count": null,
   "metadata": {
    "collapsed": true
   },
   "outputs": [],
   "source": []
  }
 ],
 "metadata": {
  "kernelspec": {
   "display_name": "Python 2",
   "language": "python",
   "name": "python2"
  },
  "language_info": {
   "codemirror_mode": {
    "name": "ipython",
    "version": 2
   },
   "file_extension": ".py",
   "mimetype": "text/x-python",
   "name": "python",
   "nbconvert_exporter": "python",
   "pygments_lexer": "ipython2",
   "version": "2.7.6"
  }
 },
 "nbformat": 4,
 "nbformat_minor": 0
}
