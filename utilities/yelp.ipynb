{
 "cells": [
  {
   "cell_type": "code",
   "execution_count": 21,
   "metadata": {
    "collapsed": false
   },
   "outputs": [],
   "source": [
    "import json\n",
    "from sets import Set\n",
    "import collections\n",
    "\n",
    "f = []\n",
    "for i in range(5):\n",
    "    f.append(open(str(i+1)+'.txt', 'w'))\n",
    "for line in open('yelp.json'):\n",
    "    j = json.loads(line)\n",
    "    s = j['stars']\n",
    "    f[s-1].write(j['text'].strip().encode('utf-8'))\n",
    "for g in f:\n",
    "    g.close()\n"
   ]
  },
  {
   "cell_type": "code",
   "execution_count": 14,
   "metadata": {
    "collapsed": false
   },
   "outputs": [],
   "source": [
    "import os\n",
    "f=open('yelp.json')\n",
    "g=open('t.txt', 'w')\n",
    "for k in range(100):\n",
    "    g.write(f.readline())\n",
    "g.close()\n",
    "f.close()\n",
    "    "
   ]
  },
  {
   "cell_type": "code",
   "execution_count": 1,
   "metadata": {
    "collapsed": false
   },
   "outputs": [
    {
     "name": "stdout",
     "output_type": "stream",
     "text": [
      "86732\n",
      "65308\n",
      "98967\n",
      "183107\n",
      "346193\n"
     ]
    }
   ],
   "source": [
    "#in part 2\n",
    "import collections\n",
    "c = []\n",
    "for i in range(5):\n",
    "    c.append([j for j in open('../../../yelp/'+str(i+1)+'.txt')])\n",
    "for i in range(5):\n",
    "    print len(c[i])"
   ]
  },
  {
   "cell_type": "code",
   "execution_count": 2,
   "metadata": {
    "collapsed": true
   },
   "outputs": [],
   "source": [
    "ll = [len(d) for d in c]"
   ]
  },
  {
   "cell_type": "code",
   "execution_count": 3,
   "metadata": {
    "collapsed": false
   },
   "outputs": [
    {
     "name": "stdout",
     "output_type": "stream",
     "text": [
      "[86732, 65308, 98967, 183107, 346193]\n"
     ]
    }
   ],
   "source": [
    "print ll"
   ]
  },
  {
   "cell_type": "code",
   "execution_count": 4,
   "metadata": {
    "collapsed": false
   },
   "outputs": [
    {
     "data": {
      "text/plain": [
       "Counter({65308: 1, 86732: 1, 98967: 1, 183107: 1, 346193: 1})"
      ]
     },
     "execution_count": 4,
     "metadata": {},
     "output_type": "execute_result"
    }
   ],
   "source": [
    "import collections\n",
    "collections.Counter(ll)"
   ]
  },
  {
   "cell_type": "code",
   "execution_count": 5,
   "metadata": {
    "collapsed": false
   },
   "outputs": [
    {
     "name": "stdout",
     "output_type": "stream",
     "text": [
      "780307\n"
     ]
    }
   ],
   "source": [
    "print sum(ll)"
   ]
  },
  {
   "cell_type": "code",
   "execution_count": 6,
   "metadata": {
    "collapsed": true
   },
   "outputs": [],
   "source": [
    "aa = [k*1.0/sum(ll) for k in ll]"
   ]
  },
  {
   "cell_type": "code",
   "execution_count": 7,
   "metadata": {
    "collapsed": false
   },
   "outputs": [
    {
     "name": "stdout",
     "output_type": "stream",
     "text": [
      "[0.11115112385253496, 0.08369526353089232, 0.12683084990907426, 0.23466020425294146, 0.443662558454557]\n"
     ]
    }
   ],
   "source": [
    "print aa"
   ]
  },
  {
   "cell_type": "code",
   "execution_count": 15,
   "metadata": {
    "collapsed": false
   },
   "outputs": [
    {
     "name": "stdout",
     "output_type": "stream",
     "text": [
      "[6640, 5000, 7576, 14018, 26504]\n"
     ]
    }
   ],
   "source": [
    "th = 5000\n",
    "bb = [k*th/ll[1] for k in ll]\n",
    "print bb"
   ]
  },
  {
   "cell_type": "code",
   "execution_count": 16,
   "metadata": {
    "collapsed": false
   },
   "outputs": [],
   "source": [
    "import random\n",
    "import numpy as np\n",
    "np.random.seed(0)\n",
    "rng = np.random.RandomState(True)\n",
    "for i in range(5):\n",
    "    rng.shuffle(c[i])"
   ]
  },
  {
   "cell_type": "code",
   "execution_count": 17,
   "metadata": {
    "collapsed": false
   },
   "outputs": [],
   "source": [
    "\n",
    "c1 = [open(str(i+1)+'5.txt', 'w') for i in range(5)]\n",
    "ct = [open(str(i+1)+'t.txt', 'w') for i in range(5)]\n",
    "cp = [open(str(i+1)+'p.txt', 'w') for i in range(5)]\n",
    "\n",
    "for i in range(5):\n",
    "    shuf_idx = np.random.permutation(ll[i])\n",
    "    \n",
    "    c1[i].write('\\n'.join(c[i][:th]))\n",
    "    ct[i].write('\\n'.join(c[i][th:(th+1000)]))\n",
    "    cp[i].write('\\n'.join(c[i][:bb[i]]))\n",
    "    c1[i].close()\n",
    "    ct[i].close()\n",
    "    cp[i].close()\n",
    "    "
   ]
  },
  {
   "cell_type": "code",
   "execution_count": null,
   "metadata": {
    "collapsed": true
   },
   "outputs": [],
   "source": []
  }
 ],
 "metadata": {
  "kernelspec": {
   "display_name": "Python 2",
   "language": "python",
   "name": "python2"
  },
  "language_info": {
   "codemirror_mode": {
    "name": "ipython",
    "version": 2
   },
   "file_extension": ".py",
   "mimetype": "text/x-python",
   "name": "python",
   "nbconvert_exporter": "python",
   "pygments_lexer": "ipython2",
   "version": "2.7.6"
  }
 },
 "nbformat": 4,
 "nbformat_minor": 0
}
