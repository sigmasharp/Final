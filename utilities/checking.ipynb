{
 "cells": [
  {
   "cell_type": "code",
   "execution_count": 7,
   "metadata": {
    "collapsed": false
   },
   "outputs": [],
   "source": [
    "import numpy as np\n",
    "rng = np.random.RandomState(True)\n",
    "h = open('hot.train.txt','w')\n",
    "ht = open('hot.test.txt', 'w')\n",
    "n = open('not.train.txt','w')\n",
    "nt = open('not.test.txt','w')\n",
    "\n",
    "senti = [i.strip() for i in open('strend.txt')]\n",
    "\n",
    "hh = []\n",
    "nn = []\n",
    "k = 0\n",
    "for line in open('test.txt'):\n",
    "    if senti[k] == 'p':\n",
    "        hh.append(line.strip())\n",
    "    else:\n",
    "        if senti[k] == 'n':\n",
    "            nn.append(line.strip())\n",
    "    k = k + 1\n",
    "np.random.seed(10)\n",
    "rng.shuffle(hh)  # in-place\n",
    "rng.shuffle(nn)\n",
    "\n",
    "\n",
    "Out[7]:\n",
    "Counter({'0': 87, 'n': 15715, 'p': 16711})\n",
    "#print len(hh), len(nn)\n",
    "#shuf_idx = np.random.permutation(len(hh))\n",
    "#print shuf_idx\n",
    "#print hh[:10]\n",
    "#hh = hh[shuf_idx]\n",
    "#shuf_idx = np.random.permutation(len(nn))\n",
    "#nn = nn[shuf_idx]\n",
    "\n",
    "for i in hh[:24000]:\n",
    "    h.write(i+'\\n')\n",
    "for i in nn[:11000]:\n",
    "    n.write(i+'\\n')\n",
    "for i in hh[24000:]:\n",
    "    ht.write(i+'\\n')\n",
    "for i in nn[11000:]:\n",
    "    nt.write(i+'\\n')\n",
    "h.close()\n",
    "n.close()\n",
    "ht.close()\n",
    "nt.close()"
   ]
  },
  {
   "cell_type": "code",
   "execution_count": 1,
   "metadata": {
    "collapsed": false
   },
   "outputs": [
    {
     "name": "stdout",
     "output_type": "stream",
     "text": [
      "Counter({'p': 67167, 'n': 62551, '0': 333})\n",
      "Counter({'0': 83584, 'p': 31598, 'n': 14869})\n"
     ]
    }
   ],
   "source": [
    "import collections\n",
    "\n",
    "st = [i.strip() for i in open('strend.txt')]\n",
    "print collections.Counter(st)\n",
    "\n",
    "sp = [i.strip() for i in open('strend.plus.txt')]\n",
    "print collections.Counter(sp)"
   ]
  },
  {
   "cell_type": "code",
   "execution_count": null,
   "metadata": {
    "collapsed": true
   },
   "outputs": [],
   "source": []
  }
 ],
 "metadata": {
  "kernelspec": {
   "display_name": "Python 2",
   "language": "python",
   "name": "python2"
  },
  "language_info": {
   "codemirror_mode": {
    "name": "ipython",
    "version": 2
   },
   "file_extension": ".py",
   "mimetype": "text/x-python",
   "name": "python",
   "nbconvert_exporter": "python",
   "pygments_lexer": "ipython2",
   "version": "2.7.6"
  }
 },
 "nbformat": 4,
 "nbformat_minor": 0
}
