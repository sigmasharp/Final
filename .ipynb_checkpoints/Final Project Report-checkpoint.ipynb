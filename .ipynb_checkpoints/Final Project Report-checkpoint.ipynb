{
 "cells": [
  {
   "cell_type": "markdown",
   "metadata": {},
   "source": [
    "# <center>RNN/LSTM-based Sentiment Analysis</center>\n",
    "\n",
    "<center>MIDS W266 Natural Language Processing Final Project</center>\n",
    "\n",
    "<center>Alan Wang, yjawang@gmail.com</center>\n",
    "\n",
    "<center>December 18, 2016</center>\n",
    "\n",
    "\n",
    "## <center>Abstract</center>\n",
    "\n",
    "Facing various challenges on financial news article sentiment analysis, this project proposed and explored several RNN/LSTM based models. Since the main dataset, New York Times Annotated Corpus (LDC2008T19) lasks polarity annotation, a dated stock trend has been tested as an indirect indicator of the running sentiment of the involved articles/sentences.  \n",
    "With 130K sentences with a SP500 mentioning and tagged with corresponding stock trends, an RNN/LSTM model with each word predicting the trend.  Then the trend is mixed with vader lexicon in the second model.  Finally, an approach of applying categorized LMs that share the common vocabulary is proposed as an alternative method to perform sentiment or other classification analysis.\n",
    "\n",
    "## <center>Goals</center>\n",
    "\n",
    "My interested in financial new article sentiment analysis was actually originally for automatically reading, analyzing, archiving financial articles and cross-referencing it to the actual market performance to hold Finacial Analysts responsible of their market predictions.  As W266 studying and scheduling evolves, the focus of this project has been set to exploring \n",
    "## <center>Background</center>\n",
    "\n",
    "## <center>Report Conventions</center>\n",
    "\n",
    "## <center>Model 1 - Word level Sentiments Predicting RNN/LSTM</center>\n",
    "\n",
    "## <center>Model 2 - Stock Trend Mixed with Vader Lexicon</center>\n",
    "\n",
    "## <center>Model 3 - Categoried LMs for NLP Classification</center>\n",
    "\n",
    "## <center>Conclusions</center>\n",
    "\n",
    "## <center>Reference</center>\n",
    "\n",
    "\n",
    "\n",
    "[senti](models/lm%20for%20senti/engine.ipynb)\n"
   ]
  },
  {
   "cell_type": "markdown",
   "metadata": {},
   "source": [
    "Reports\n",
    "\n",
    "Submit link to your report as a ipynb to the email list (where you sent your proposals & midpoints)\n",
    "4-5 pages (we won't be picky here, so don't email us asking if 6 pages is acceptable, it is - but if you're much longer than that, see if you can make it a little more concise :)\n",
    "Good outline:\n",
    "Abstract (<100 words)\n",
    "Goals/Introduction\n",
    "Background (cite references as necessary)\n",
    "Your approach\n",
    "Your results\n",
    "Conclusions\n"
   ]
  }
 ],
 "metadata": {
  "kernelspec": {
   "display_name": "Python 2",
   "language": "python",
   "name": "python2"
  },
  "language_info": {
   "codemirror_mode": {
    "name": "ipython",
    "version": 2
   },
   "file_extension": ".py",
   "mimetype": "text/x-python",
   "name": "python",
   "nbconvert_exporter": "python",
   "pygments_lexer": "ipython2",
   "version": "2.7.6"
  }
 },
 "nbformat": 4,
 "nbformat_minor": 0
}
