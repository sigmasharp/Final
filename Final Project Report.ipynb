{
 "cells": [
  {
   "cell_type": "markdown",
   "metadata": {},
   "source": [
    "# RNN/LSTM-based Sentiment Analysis\n",
    "\n",
    "MIDS W266 Natural Language Processing Final Project\n",
    "\n",
    "Alan Wang, yjawang@gmail.com\n",
    "\n",
    "December 18, 2016\n",
    "\n",
    "\n",
    "## Abstract\n",
    "\n",
    "Triggered by various challenges on financial news article sentiment analysis, this project proposed and explored several RNN/LSTM model illustrated in our Assignment 1, Part 2.  The main data set used in this project is  LDC2008T19, the New York Times Annotated Corpus.  One major challenge in the corpus is the lack of polarity labeling.  For lack of more directly and automatically applicable sources, the dated stock trend is used as an indirect indicator of the running sentiment of the involved articles/sentences.  \n",
    "\n",
    "After data cleansing and preprocessing the 1.8M NYT articles into 130K sentences which involves a SP500 company tagged with its stock trend (up or down from previous week to the week of the publication), I started the first direct RNN/LSTM model which would "
   ]
  },
  {
   "cell_type": "markdown",
   "metadata": {},
   "source": [
    "Reports\n",
    "\n",
    "Submit link to your report as a ipynb to the email list (where you sent your proposals & midpoints)\n",
    "4-5 pages (we won't be picky here, so don't email us asking if 6 pages is acceptable, it is - but if you're much longer than that, see if you can make it a little more concise :)\n",
    "Good outline:\n",
    "Abstract (<100 words)\n",
    "Goals/Introduction\n",
    "Background (cite references as necessary)\n",
    "Your approach\n",
    "Your results\n",
    "Conclusions\n"
   ]
  }
 ],
 "metadata": {
  "kernelspec": {
   "display_name": "Python 2",
   "language": "python",
   "name": "python2"
  },
  "language_info": {
   "codemirror_mode": {
    "name": "ipython",
    "version": 2
   },
   "file_extension": ".py",
   "mimetype": "text/x-python",
   "name": "python",
   "nbconvert_exporter": "python",
   "pygments_lexer": "ipython2",
   "version": "2.7.6"
  }
 },
 "nbformat": 4,
 "nbformat_minor": 0
}
