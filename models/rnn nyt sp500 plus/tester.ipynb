{
 "cells": [
  {
   "cell_type": "code",
   "execution_count": 1,
   "metadata": {
    "collapsed": false
   },
   "outputs": [
    {
     "data": {
      "text/plain": [
       "<module 'rnnsm' from 'rnnsm.pyc'>"
      ]
     },
     "execution_count": 1,
     "metadata": {},
     "output_type": "execute_result"
    }
   ],
   "source": [
    "import os, sys, re, json, time, shutil\n",
    "import itertools\n",
    "import collections\n",
    "from IPython.display import display\n",
    "\n",
    "# NLTK for NLP utils and corpora\n",
    "import nltk\n",
    "\n",
    "# NumPy and TensorFlow\n",
    "import numpy as np\n",
    "import tensorflow as tf\n",
    "\n",
    "# Pandas because pandas are awesome, and for pretty-printing\n",
    "import pandas as pd\n",
    "# Set pandas floating point display\n",
    "pd.set_option('float_format', lambda f: \"{0:.04f}\".format(f))\n",
    "\n",
    "# Helper libraries for this notebook\n",
    "import utils; reload(utils)\n",
    "import vocabulary; reload(vocabulary)\n",
    "import rnnsm; reload(rnnsm)"
   ]
  },
  {
   "cell_type": "code",
   "execution_count": 3,
   "metadata": {
    "collapsed": false
   },
   "outputs": [
    {
     "name": "stdout",
     "output_type": "stream",
     "text": [
      "Loaded 57340 sentences (1.16119e+06 tokens)\n",
      "Training set: 45872 sentences (979646 tokens)\n",
      "Test set: 11468 sentences (181546 tokens)\n"
     ]
    }
   ],
   "source": [
    "corpus = utils.get_corpus('brown')\n",
    "senti = [int(line[:-2]) if len(line[:-2])!=0 else int(line[:]) for line in open('./senti.txt')]\n",
    "vocab = utils.build_vocab(corpus, 10000)\n",
    "train_sentences, test_sentences = utils.get_train_test_sents(corpus, 0.8, 0)\n",
    "train_ids = utils.preprocess_sentences(train_sentences, vocab)\n",
    "#train_target = \n",
    "test_ids = utils.preprocess_sentences(test_sentences, vocab)\n",
    "#test_target =\n"
   ]
  },
  {
   "cell_type": "code",
   "execution_count": 4,
   "metadata": {
    "collapsed": false
   },
   "outputs": [
    {
     "name": "stdout",
     "output_type": "stream",
     "text": [
      "1025519 193015 45872 11468 1161192 57340\n"
     ]
    }
   ],
   "source": [
    "print len(train_ids), len(test_ids), len(train_sentences), len(test_sentences), len(corpus.words()), len(corpus.sents())"
   ]
  },
  {
   "cell_type": "code",
   "execution_count": 6,
   "metadata": {
    "collapsed": false
   },
   "outputs": [],
   "source": [
    "#corpus.sents()[0:10]"
   ]
  },
  {
   "cell_type": "code",
   "execution_count": 7,
   "metadata": {
    "collapsed": false
   },
   "outputs": [],
   "source": [
    "#print train_sentences[0:10]"
   ]
  },
  {
   "cell_type": "code",
   "execution_count": 8,
   "metadata": {
    "collapsed": false
   },
   "outputs": [
    {
     "name": "stdout",
     "output_type": "stream",
     "text": [
      "Loaded 155941 sentences (4.43612e+06 tokens)\n",
      "Training set: 124752 sentences (3525140 tokens)\n",
      "Test set: 31189 sentences (910981 tokens)\n"
     ]
    }
   ],
   "source": [
    "scorpus = utils.get_corpus('text.txt')\n",
    "senti = [int(line[:-2]) if len(line[:-2])!=0 else int(line[:]) for line in open('./senti.txt')]\n",
    "svocab = utils.build_vocab(scorpus, 10000)\n",
    "strain_sentences, stest_sentences = utils.get_train_test_sents(scorpus, 0.8, 0)\n",
    "strain_ids = utils.preprocess_sentences(strain_sentences, svocab)\n",
    "#train_target = \n",
    "stest_ids = utils.preprocess_sentences(stest_sentences, svocab)\n",
    "#test_target =\n"
   ]
  },
  {
   "cell_type": "code",
   "execution_count": 18,
   "metadata": {
    "collapsed": false
   },
   "outputs": [
    {
     "name": "stdout",
     "output_type": "stream",
     "text": [
      "[[u'Was', u'last', u'month', u'the', u'peak', u'?']\n",
      " [u'The', u'wave', u'of', u'buyouts', u'continued', u'to', u'rise', u'in', u'May', u',', u'making', u'it', u'the', u'one', u'of', u'the', u'biggest', u'deal', u'-', u'making', u'months', u'ever', u'.']\n",
      " [u'Only', u'January', u'2000', u',', u'when', u'the', u'America', u'Online', u'-', u'Time', u'Warner', u'merger', u'was', u'announced', u',', u'and', u'April', u'1998', u'(', u'the', u'Citicorp', u'-', u'Travelers', u'deal', u')', u'were', u'bigger', u'..', u'Dow', u'Jones', u',', u'which', u'owns', u'The', u'Wall', u'Street', u'Journal', u'and', u'other', u'media', u'properties', u',', u'is', u'entertaining', u'a', u'$', u'5', u'billion', u'takeover', u'offer', u'from', u'Rupert', u'Murdoch', u',', u'who', u'controls', u'the', u'News', u'Corporation', u'.']\n",
      " [u'The', u'Bancroft', u'family', u',', u'which', u'controls', u'Dow', u'Jones', u',', u'met', u'with', u'Mr', u'.', u'Murdoch', u'this', u'week', u'to', u'discuss', u'terms', u',', u'and', u'a', u'few', u'other', u'potential', u'suitors', u'have', u'stepped', u'forward', u'to', u'express', u'interest', u'in', u'bidding', u'for', u'the', u'company', u'.']\n",
      " [u'Without', u'the', u'taxes', u'being', u'paid', u',', u'Richard', u'F', u'.', u'Zannino', u',', u'who', u'became', u'the', u'chief', u'executive', u'of', u'Dow', u'Jones', u'in', u'February', u'2006', u',', u'could', u'be', u'eligible', u'for', u'more', u'than', u'$', u'19', u'.', u'7', u'million', u'in', u'severance', u',', u'retirement', u'benefits', u'and', u'stock', u'and', u'option', u'payouts', u'based', u'on', u'the', u'$', u'60', u'-', u'a', u'-', u'share', u'price', u'offered', u'by', u'the', u'News', u'Corporation', u'.']\n",
      " [u'L', u'.', u'Gordon', u'Crovitz', u',', u'The', u'Wall', u'Street', u'Journal', u\"'\", u's', u'publisher', u',', u'could', u'be', u'eligible', u'for', u'more', u'than', u'$', u'7', u'.', u'2', u'million', u'.']\n",
      " [u'The', u'Vodafone', u'Group', u',', u'the', u'world', u\"'\", u's', u'largest', u'cellphone', u'company', u',', u'said', u'on', u'Thursday', u'that', u'it', u'had', u'received', u'a', u'letter', u'from', u'a', u'group', u'of', u'shareholders', u'asking', u'it', u'to', u'return', u'as', u'much', u'as', u'\\xa3', u'38', u'billion', u'($', u'75', u'billion', u')', u'to', u'investors', u'in', u'part', u'by', u'spinning', u'off', u'its', u'stake', u'in', u'Verizon', u'Wireless', u'.']\n",
      " [u'In', u'the', u'latest', u'effort', u'by', u'minority', u'shareholders', u'to', u'influence', u'management', u'decisions', u',', u'a', u'little', u'-', u'known', u'group', u'of', u'investors', u',', u'Efficient', u'Capital', u'Structures', u',', u'suggested', u'that', u'Vodafone', u'give', u'its', u'investors', u'tracking', u'shares', u'representing', u'the', u'company', u\"'\", u's', u'45', u'percent', u'stake', u'in', u'Verizon', u'Wireless', u',', u'the', u'American', u'cellular', u'carrier', u';', u'increase', u'borrowing', u'as', u'a', u'way', u'to', u'return', u'more', u'money', u'to', u'shareholders', u';', u'and', u'ask', u'the', u'permission', u'of', u'shareholders', u'before', u'making', u'any', u'large', u'acquisitions', u'.']\n",
      " [u'An', u'analyst', u'at', u'Goldman', u'Sachs', u'in', u'London', u',', u'Simon', u'Weeden', u',', u'said', u'that', u'he', u'did', u'not', u'expect', u'the', u'claims', u'to', u'be', u'taken', u'seriously', u'and', u'that', u'a', u'spinoff', u'of', u'Vodafone', u\"'\", u's', u'stake', u'in', u'Verizon', u'Wireless', u'would', u'create', u'complex', u'tax', u'issues', u'and', u'would', u'dilute', u'shareholder', u'rights', u'.']\n",
      " [u'Contrast', u'that', u'with', u'the', u'success', u'of', u'the', u'Wii', u'.']]\n"
     ]
    }
   ],
   "source": [
    "print strain_sentences[0:10]\n"
   ]
  },
  {
   "cell_type": "code",
   "execution_count": 9,
   "metadata": {
    "collapsed": false
   },
   "outputs": [
    {
     "name": "stdout",
     "output_type": "stream",
     "text": [
      "3649893 942171 124752 31189 4435274 155941\n"
     ]
    }
   ],
   "source": [
    "print len(strain_ids), len(stest_ids), len(strain_sentences), len(stest_sentences), len(scorpus.words()), len(scorpus.sents())"
   ]
  },
  {
   "cell_type": "code",
   "execution_count": 15,
   "metadata": {
    "collapsed": false
   },
   "outputs": [],
   "source": [
    "ss =  strain_sentences[0:3]\n",
    "ww =  stest_sentences[0:3]\n",
    "open('sss.txt','w').write(ss)\n",
    "open('www.txt','w').write(ww)"
   ]
  },
  {
   "cell_type": "code",
   "execution_count": 19,
   "metadata": {
    "collapsed": false
   },
   "outputs": [
    {
     "name": "stdout",
     "output_type": "stream",
     "text": [
      "['\\xd8r[\\xd3\\x97\\x7f\\x00\\x00\\x80\\x7f[\\xd3\\x97\\x7f\\x00\\x00\\x18~[\\xd3\\x97\\x7f\\x00\\x00']\n"
     ]
    }
   ],
   "source": [
    "print [l for l in open('sss.txt')]"
   ]
  },
  {
   "cell_type": "code",
   "execution_count": 20,
   "metadata": {
    "collapsed": false
   },
   "outputs": [
    {
     "name": "stdout",
     "output_type": "stream",
     "text": [
      "[[u'Was', u'last', u'month', u'the', u'peak', u'?']\n",
      " [u'The', u'wave', u'of', u'buyouts', u'continued', u'to', u'rise', u'in', u'May', u',', u'making', u'it', u'the', u'one', u'of', u'the', u'biggest', u'deal', u'-', u'making', u'months', u'ever', u'.']\n",
      " [u'Only', u'January', u'2000', u',', u'when', u'the', u'America', u'Online', u'-', u'Time', u'Warner', u'merger', u'was', u'announced', u',', u'and', u'April', u'1998', u'(', u'the', u'Citicorp', u'-', u'Travelers', u'deal', u')', u'were', u'bigger', u'..', u'Dow', u'Jones', u',', u'which', u'owns', u'The', u'Wall', u'Street', u'Journal', u'and', u'other', u'media', u'properties', u',', u'is', u'entertaining', u'a', u'$', u'5', u'billion', u'takeover', u'offer', u'from', u'Rupert', u'Murdoch', u',', u'who', u'controls', u'the', u'News', u'Corporation', u'.']]\n"
     ]
    }
   ],
   "source": [
    "print ss"
   ]
  },
  {
   "cell_type": "code",
   "execution_count": 4,
   "metadata": {
    "collapsed": false
   },
   "outputs": [],
   "source": [
    "import nltk\n",
    "ccc = nltk.corpus.PlaintextCorpusReader('./', 'tmp.txt')\n"
   ]
  },
  {
   "cell_type": "code",
   "execution_count": 56,
   "metadata": {
    "collapsed": false
   },
   "outputs": [
    {
     "name": "stdout",
     "output_type": "stream",
     "text": [
      "Loaded 2 sentences (81 tokens)\n"
     ]
    }
   ],
   "source": [
    "#print ' '.join(ccc.sents()[0])\n",
    "import numpy as np\n",
    "#print ccc.sents()\n",
    "#print ccc.raw()\n",
    "sentences = np.array(ccc.sents(), dtype=object)\n",
    "fmt = (len(sentences), sum(map(len, sentences)))\n",
    "print \"Loaded %d sentences (%g tokens)\" % fmt\n"
   ]
  },
  {
   "cell_type": "code",
   "execution_count": 129,
   "metadata": {
    "collapsed": false
   },
   "outputs": [
    {
     "name": "stdout",
     "output_type": "stream",
     "text": [
      "Loaded 100 sentences (3516 tokens)\n",
      "Training set: 80 sentences (2646 tokens)\n",
      "Test set: 20 sentences (870 tokens)\n",
      "Loaded 100 sentences (100 tokens)\n",
      "Training set: 80 sentences (80 tokens)\n",
      "Test set: 20 sentences (20 tokens)\n",
      "80 2646 2727\n",
      "80 80 2727\n"
     ]
    }
   ],
   "source": [
    "from nltk.tokenize import word_tokenize\n",
    "from nltk.tokenize import sent_tokenize\n",
    "import utils\n",
    "import unicodedata\n",
    "import vocabulary\n",
    "reload(utils)\n",
    "reload(vocabulary)\n",
    "\n",
    "#small = [word_tokenize(unicode(s.decode('utf-8')).strip()) for s in open('./test.txt')]\n",
    "#print small\n",
    "#test_w = [word_tokenize(s.strip()) for s in open('./tmp.txt')]\n",
    "#print len(test_w[0]), len(test_w[1])\n",
    "#print len(utils.flatten(test_w))\n",
    "\n",
    "\n",
    "#vocab, train_ids, train_sids, test_ids, test_sids = utils.load_corpus('test.txt','tests.txt')\n",
    "sents = utils.get_sents('test.txt')   \n",
    "vocab = utils.build_vocab(sents, 100)\n",
    "ssents = utils.get_sents('tests.txt')   \n",
    "svocab = utils.build_vocab(ssents)\n",
    "#print ssents\n",
    "train_sentences, test_sentences = utils.get_train_test_sents(sents)\n",
    "train_ids = utils.preprocess_sentences(train_sentences, vocab)\n",
    "train_ssentences, test_ssentences = utils.get_train_test_sents(ssents)\n",
    "train_sids = utils.preprocess_ssentences(train_sentences, train_ssentences, svocab)\n",
    "print len(train_sentences), len(utils.flatten(train_sentences)), len(train_ids)\n",
    "print len(train_ssentences), len(utils.flatten(train_ssentences)), len(train_sids)\n",
    "#sents = utils.get_corpus('test.txt')\n",
    "#print words\n",
    "#vocab = utils.build_vocab(words, 100)\n",
    "#words = utils.flatten(sents)\n",
    "#token_feed = (utils.canonicalize_word(w) for w in words)\n",
    "#print token_feed.next()\n",
    "#token_feed = (utils.canonicalize_word(w) for w in f)\n",
    "\n",
    "#vocab = utils.vocabulary.Vocabulary(token_feed, size=6)"
   ]
  },
  {
   "cell_type": "code",
   "execution_count": 164,
   "metadata": {
    "collapsed": false
   },
   "outputs": [
    {
     "name": "stdout",
     "output_type": "stream",
     "text": [
      "Loaded 100 sentences (3516 tokens)\n",
      "Training set: 80 sentences (2646 tokens)\n",
      "Test set: 20 sentences (870 tokens)\n",
      "Loaded 100 sentences (100 tokens)\n",
      "Training set: 80 sentences (80 tokens)\n",
      "Test set: 20 sentences (20 tokens)\n",
      "[1, 3, 5, 8, 9, 10, 11, 12, 13, 14, 15, 16, 17, 18, 19, 20, 21, 22, 23, 24, 25, 26, 27, 28, 29, 30, 31, 32, 33, 34, 35, 36, 37, 38, 39, 40, 41, 42, 43, 44, 45, 46, 47, 48, 49, 50, 51, 52, 53, 54, 55, 56, 57, 59, 61, 62, 63, 70, 71, 72, 75, 76, 78, 81]\n",
      "[1, 3, 5, 8, 9, 10, 11, 12, 13, 14, 15, 16, 17, 18, 19, 20, 21, 22, 23, 24, 25, 26, 27, 28, 29, 30, 31, 32, 33, 34, 35, 36, 37, 38, 39, 40, 41, 42, 43, 44, 45, 46, 47, 48, 49, 50, 51, 52, 53, 54, 55, 56, 57, 59, 61, 62, 63, 70, 71, 72, 75, 76, 78, 81]\n",
      "[   0  331  287  107    3  167    4  811 1089  121  840   34  699    3    7\n",
      "  918  107   36    4 1034 1070   37   67  910    0  237    4  349    5    4\n",
      "  673   62    3    4 1053  158   23    4  399   40    3  253  330  309    3\n",
      "    4  283  396   40    7]\n",
      "[30 30 30 30 30 30 30 30 30 30 30 30 30 30 30 30 30 30 30 30 30 30 30 30 30\n",
      " 31 31 31 31 31 31 31 31 31 31 31 31 31 31 31 31 31 31 31 31 31 31 31 31 31]\n",
      "[   0   14    3  540   17  559    3   18    8  137    9   80   68    0    4\n",
      "  197  250  149  180  606  520   26  228    8  168  780 1087    8    9  192\n",
      "   92    3  459   28  370  644  206  808   17  790  875  197  522    6    0\n",
      "   52  457   34 1189  974]\n",
      "[30 30 30 30 30 30 30 30 30 30 30 30 30 30 30 30 30 30 30 30 30 30 30 30 30\n",
      " 30 30 30 30 30 30 30 30 30 30 30 30 30 30 30 30 30 30 30 30 31 31 31 31 31]\n",
      "2727 2727 891 891\n"
     ]
    }
   ],
   "source": [
    "import utils\n",
    "import unicodedata\n",
    "import vocabulary\n",
    "reload(utils)\n",
    "reload(vocabulary)\n",
    "vocab, train_ids, train_sids, test_ids, test_sids = utils.load_corpus(\"test.txt\", \"tests.txt\")\n",
    "print train_ids[:50]\n",
    "print train_sids[:50]\n",
    "print test_ids[:50]\n",
    "print test_sids[:50]\n",
    "print len(train_ids), len(train_sids), len(test_ids), len(test_sids)"
   ]
  },
  {
   "cell_type": "code",
   "execution_count": 137,
   "metadata": {
    "collapsed": false
   },
   "outputs": [
    {
     "name": "stdout",
     "output_type": "stream",
     "text": [
      "[1, 3, 5, 8, 9, 10, 11, 12, 13, 14, 15, 16, 17, 18, 19, 20, 21, 22, 23, 24, 25, 26, 27, 28, 29, 30, 31, 32, 33, 34, 35, 36, 37, 38, 39, 40, 41, 42, 43, 44, 45, 46, 47, 48, 49, 50, 51, 52, 53, 54, 55, 56, 57, 59, 61, 62, 63, 70, 71, 72, 75, 76, 78, 81]\n"
     ]
    }
   ],
   "source": [
    "sv = vocabulary.SVocabulary()\n",
    "test = [u'35', u'35', u'35', u'35', u'35', u'35', u'35', u'35', u'35', u'35', u'35', u'35', u'35', u'35', u'35', u'35', u'35', u'35', u'35', u'35', u'35', u'35', u'35', u'35', u'35', u'36', u'36', u'36', u'36', u'36', u'36', u'36', u'36', u'36', u'36', u'36', u'36', u'36', u'36', u'36', u'36', u'36', u'36', u'36', u'36', u'36', u'36', u'36', u'36', u'36', u'36', u'36', u'36', u'36', u'36', u'36', u'36', u'36', u'36', u'36', u'36', u'36', u'36', u'36', u'36', u'36', u'36', u'36', u'36', u'36', u'36', u'36', u'36', u'36', u'36', u'36', u'36', u'36', u'36', u'36', u'36', u'36', u'36', u'36', u'36', u'36', u'36', u'36', u'36', u'36', u'36', u'36', u'36', u'36', u'36', u'36', u'36', u'36', u'36', u'36', u'36', u'36', u'36', u'36', u'36', u'36', u'36', u'36', u'36', u'36', u'36', u'36', u'36', u'36', u'36', u'36', u'36', u'36', u'36', u'36', u'36', u'36', u'36', u'36', u'36', u'36', u'36', u'36', u'36', u'36', u'36', u'36', u'36', u'36', u'36', u'36', u'36', u'36', u'36', u'36', u'36', u'36', u'36', u'36', u'36', u'36', u'36', u'36', u'36', u'36', u'36', u'36', u'36', u'36', u'36', u'36', u'36', u'36', u'36', u'36', u'36', u'36', u'36', u'36', u'36', u'38', u'38', u'38', u'38', u'38', u'38', u'38', u'38', u'38', u'38', u'38', u'38', u'38', u'38', u'38', u'38', u'38', u'38', u'38', u'38', u'38', u'38', u'38', u'38', u'38', u'38', u'38', u'38', u'38', u'38', u'38', u'38', u'38', u'38', u'38', u'38', u'38', u'38', u'38', u'38', u'38', u'38', u'38', u'38', u'38', u'38', u'38', u'38', u'38', u'38', u'38', u'38', u'38', u'38', u'38', u'38', u'38', u'38', u'38', u'38', u'38', u'38', u'38', u'38', u'38', u'38', u'38', u'38', u'38', u'38', u'38', u'38', u'38', u'38', u'38', u'38', u'38', u'38', u'38', u'38', u'38', u'38', u'38', u'38', u'38', u'38', u'38', u'38', u'38', u'38', u'38', u'38', u'38', u'38', u'38', u'38', u'38', u'38', u'38', u'38', u'38', u'38', u'38', u'38', u'38', u'38', u'38', u'38', u'38', u'38', u'38', u'38', u'38', u'38', u'38', u'38', u'38', u'38', u'38', u'38', u'38', u'38', u'38', u'38', u'38', u'38', u'38', u'38', u'38', u'38', u'38', u'38', u'38', u'38', u'38', u'38', u'38', u'38', u'38', u'38', u'38', u'38', u'38', u'38', u'38', u'38', u'38', u'36', u'36', u'36', u'36', u'36', u'36', u'36', u'36', u'36', u'36', u'36', u'36', u'36', u'36', u'36', u'36', u'36', u'36', u'36', u'36', u'36', u'36', u'36', u'36', u'36', u'36', u'36', u'36', u'36', u'36', u'36', u'36', u'36', u'36', u'36', u'36', u'36', u'36', u'36', u'36', u'36', u'36', u'36', u'36', u'36', u'36', u'36', u'36', u'36', u'36', u'36', u'36', u'36', u'36', u'36', u'36', u'36', u'36', u'36', u'36', u'36', u'36', u'36', u'36', u'36', u'36', u'36', u'36', u'36', u'36', u'36', u'36', u'36', u'36', u'36', u'36', u'36', u'36', u'36', u'36', u'36', u'36', u'36', u'36', u'36', u'36', u'36', u'36', u'36', u'36', u'36', u'36', u'36', u'36', u'36', u'36', u'36', u'36', u'36', u'36', u'36', u'36', u'36', u'36', u'36', u'36', u'36', u'36', u'36', u'36', u'36', u'36', u'36', u'36', u'36', u'36', u'36', u'36', u'36', u'36', u'36', u'36', u'36', u'36', u'36', u'36', u'36', u'36', u'36', u'36', u'36', u'36', u'36', u'36', u'36', u'36', u'36', u'36', u'36', u'36', u'36', u'36', u'36', u'36', u'36', u'36', u'36', u'36', u'36', u'36', u'36', u'36', u'36', u'36', u'36', u'36', u'36', u'36', u'36', u'36', u'36', u'36', u'36', u'36', u'36', u'36', u'36', u'36', u'36', u'36', u'36', u'36', u'36', u'36', u'36', u'36', u'36', u'36', u'36', u'36', u'36', u'36', u'36', u'36', u'36', u'36', u'36', u'36', u'36', u'36', u'36', u'36', u'36', u'36', u'36', u'36', u'36', u'36', u'36', u'36', u'36', u'36', u'36', u'36', u'36', u'36', u'36', u'36', u'36', u'36', u'36', u'36', u'36', u'36', u'36', u'36', u'36', u'36', u'36', u'36', u'36', u'36', u'36', u'36', u'36', u'36', u'36', u'36', u'36', u'36', u'36', u'36', u'36', u'36', u'36', u'36', u'36', u'36', u'36', u'36', u'36', u'36', u'36', u'36', u'36', u'36', u'36', u'36', u'36', u'36', u'36', u'36', u'36', u'36', u'36', u'36', u'36', u'36', u'36', u'36', u'36', u'36', u'36', u'36', u'36', u'36', u'36', u'36', u'36', u'36', u'36', u'36', u'36', u'36', u'36', u'36', u'36', u'36', u'36', u'36', u'36', u'36', u'36', u'36', u'36', u'36', u'36', u'36', u'36', u'36', u'36', u'36', u'36', u'36', u'36', u'36', u'36', u'36', u'36', u'36', u'36', u'36', u'36', u'36', u'36', u'36', u'36', u'36', u'36', u'36', u'36', u'36', u'36', u'36', u'36', u'36', u'36', u'36', u'36', u'36', u'36', u'36', u'36', u'36', u'36', u'36', u'36', u'36', u'36', u'36', u'36', u'36', u'36', u'36', u'36', u'36', u'36', u'36', u'36', u'36', u'36', u'36', u'36', u'36', u'36', u'36', u'36', u'36', u'36', u'36', u'36', u'36', u'36', u'36', u'41', u'41', u'41', u'41', u'41', u'41', u'41', u'41', u'41', u'41', u'41', u'41', u'41', u'41', u'41', u'41', u'41', u'41', u'41', u'41', u'41', u'41', u'41', u'41', u'41', u'41', u'41', u'41', u'41', u'41', u'41', u'41', u'41', u'41', u'41', u'41', u'41', u'41', u'41', u'41', u'41', u'41', u'41', u'41', u'41', u'41', u'41', u'41', u'41', u'41', u'41', u'41', u'41', u'41', u'41', u'41', u'41', u'41', u'41', u'41', u'41', u'41', u'41', u'41', u'41', u'41', u'41', u'41', u'41', u'41', u'41', u'41', u'41', u'41', u'41', u'41', u'41', u'41', u'41', u'41', u'41', u'41', u'41', u'41', u'41', u'41', u'41', u'41', u'41', u'41', u'41', u'41', u'41', u'41', u'41', u'41', u'41', u'41', u'41', u'41', u'41', u'41', u'41', u'41', u'41', u'41', u'41', u'41', u'41', u'41', u'41', u'41', u'41', u'41', u'41', u'41', u'41', u'41', u'41', u'41', u'41', u'41', u'41', u'41', u'41', u'41', u'41', u'41', u'41', u'41', u'41', u'41', u'41', u'41', u'41', u'41', u'41', u'41', u'41', u'41', u'41', u'41', u'41', u'41', u'41', u'41', u'41', u'41', u'41', u'41', u'41', u'41', u'41', u'41', u'41', u'41', u'41', u'41', u'41', u'41', u'41', u'41', u'41', u'41', u'41', u'41', u'41', u'41', u'41', u'41', u'41', u'41', u'41', u'41', u'41', u'41', u'41', u'41', u'41', u'41', u'41', u'41', u'41', u'41', u'41', u'41', u'41', u'41', u'41', u'41', u'41', u'41', u'41', u'41', u'41', u'41', u'41', u'41', u'41', u'41', u'41', u'41', u'41', u'41', u'41', u'41', u'41', u'41', u'41', u'41', u'41', u'41', u'41', u'41', u'41', u'41', u'41', u'41', u'41', u'41', u'41', u'41', u'41', u'41', u'41', u'41', u'41', u'41', u'41', u'41', u'41', u'41', u'41', u'41', u'41', u'41', u'41', u'41', u'41', u'41', u'41', u'41', u'41', u'41', u'41', u'41', u'41', u'41', u'41', u'41', u'41', u'41', u'41', u'41', u'41', u'41', u'41', u'41', u'41', u'41', u'41', u'41', u'41', u'41', u'41', u'41', u'41', u'41', u'41', u'41', u'41', u'41', u'41', u'41', u'41', u'41', u'41', u'41', u'41', u'41', u'41', u'41', u'41', u'41', u'41', u'41', u'41', u'41', u'41', u'41', u'41', u'41', u'41', u'41', u'41', u'41', u'41', u'41', u'41', u'41', u'41', u'41', u'41', u'41', u'41', u'41', u'41', u'41', u'41', u'41', u'41', u'41', u'41', u'41', u'41', u'41', u'41', u'41', u'41', u'41', u'41', u'41', u'41', u'41', u'41', u'41', u'41', u'41', u'41', u'41', u'41', u'41', u'41', u'41', u'41', u'41', u'41', u'41', u'41', u'41', u'41', u'41', u'41', u'41', u'41', u'41', u'41', u'41', u'41', u'41', u'41', u'41', u'41', u'41', u'41', u'41', u'41', u'41', u'41', u'41', u'41', u'41', u'41', u'41', u'41', u'41', u'41', u'41', u'41', u'41', u'41', u'41', u'41', u'41', u'41', u'41', u'41', u'41', u'41', u'41', u'41', u'41', u'41', u'41', u'41', u'41', u'41', u'41', u'41', u'41', u'41', u'41', u'41', u'41', u'41', u'41', u'41', u'41', u'41', u'41', u'41', u'41', u'41', u'41', u'41', u'41', u'41', u'41', u'41', u'41', u'41', u'41', u'41', u'41', u'41', u'41', u'41', u'41', u'41', u'41', u'41', u'41', u'41', u'41', u'41', u'41', u'41', u'41', u'41', u'41', u'41', u'41', u'41', u'41', u'41', u'41', u'41', u'41', u'41', u'41', u'41', u'41', u'41', u'41', u'41', u'41', u'41', u'41', u'41', u'41', u'41', u'41', u'41', u'41', u'41', u'41', u'41', u'41', u'41', u'41', u'41', u'41', u'41', u'41', u'41', u'41', u'41', u'41', u'41', u'41', u'41', u'41', u'41', u'41', u'35', u'35', u'35', u'35', u'35', u'35', u'35', u'35', u'35', u'35', u'35', u'35', u'35', u'35', u'35', u'35', u'35', u'35', u'35', u'35', u'35', u'35', u'35', u'35', u'35', u'35', u'35', u'35', u'35', u'35', u'35', u'35', u'35', u'35', u'35', u'35', u'35', u'35', u'35', u'35', u'35', u'35', u'35', u'35', u'35', u'35', u'35', u'35', u'35', u'35', u'35', u'35', u'35', u'35', u'35', u'35', u'35', u'35', u'35', u'35', u'35', u'35', u'35', u'35', u'35', u'35', u'35', u'35', u'35', u'35', u'35', u'35', u'35', u'35', u'35', u'35', u'35', u'35', u'35', u'35', u'35', u'35', u'35', u'35', u'35', u'35', u'35', u'35', u'35', u'35', u'35', u'35', u'35', u'35', u'35', u'35', u'35', u'35', u'35', u'35', u'35', u'35', u'35', u'35', u'35', u'35', u'35', u'35', u'35', u'35', u'35', u'35', u'35', u'35', u'35', u'35', u'35', u'35', u'35', u'35', u'35', u'35', u'35', u'35', u'35', u'35', u'35', u'35', u'35', u'35', u'35', u'35', u'35', u'35', u'35', u'35', u'35', u'35', u'35', u'35', u'35', u'35', u'35', u'35', u'35', u'35', u'35', u'35', u'35', u'35', u'35', u'35', u'35', u'35', u'35', u'35', u'35', u'35', u'35', u'35', u'35', u'35', u'35', u'35', u'35', u'35', u'35', u'35', u'35', u'35', u'35', u'35', u'35', u'35', u'35', u'35', u'35', u'35', u'35', u'34', u'34', u'34', u'34', u'34', u'34', u'34', u'34', u'34', u'34', u'34', u'34', u'34', u'34', u'34', u'34', u'34', u'34', u'34', u'34', u'34', u'34', u'34', u'34', u'34', u'34', u'34', u'34', u'34', u'34', u'34', u'34', u'34', u'34', u'34', u'34', u'34', u'34', u'34', u'34', u'34', u'34', u'34', u'34', u'34', u'34', u'34', u'34', u'34', u'34', u'34', u'34', u'34', u'34', u'34', u'34', u'34', u'34', u'34', u'34', u'34', u'34', u'34', u'34', u'34', u'34', u'34', u'34', u'34', u'34', u'34', u'34', u'34', u'34', u'34', u'34', u'34', u'34', u'34', u'34', u'35', u'35', u'35', u'35', u'35', u'35', u'35', u'35', u'35', u'35', u'35', u'35', u'35', u'35', u'35', u'35', u'35', u'35', u'35', u'35', u'35', u'35', u'35', u'35', u'35', u'35', u'35', u'35', u'35', u'35', u'35', u'35', u'35', u'35', u'35', u'35', u'35', u'35', u'35', u'35', u'35', u'35', u'35', u'35', u'35', u'35', u'35', u'35', u'35', u'35', u'35', u'35', u'35', u'35', u'35', u'35', u'35', u'35', u'35', u'35', u'35', u'35', u'35', u'35', u'35', u'35', u'35', u'35', u'35', u'35', u'35', u'35', u'35', u'35', u'35', u'35', u'35', u'35', u'35', u'35', u'35', u'35', u'35', u'35', u'35', u'35', u'35', u'35', u'35', u'35', u'35', u'35', u'35', u'35', u'35', u'35', u'35', u'35', u'35', u'35', u'35', u'35', u'35', u'35', u'35', u'35', u'35', u'35', u'35', u'35', u'35', u'35', u'35', u'35', u'35', u'35', u'35', u'35', u'35', u'35', u'35', u'35', u'35', u'35', u'35', u'35', u'35', u'35', u'35', u'35', u'35', u'35', u'35', u'35', u'35', u'35', u'35', u'35', u'35', u'35', u'35', u'35', u'35', u'35', u'35', u'35', u'35', u'35', u'35', u'35', u'35', u'35', u'35', u'35', u'35', u'35', u'35', u'35', u'35', u'35', u'35', u'35', u'35', u'35', u'35', u'35', u'35', u'35', u'35', u'35', u'35', u'35', u'35', u'35', u'35', u'35', u'35', u'35', u'35', u'35', u'35', u'35', u'35', u'35', u'35', u'35', u'35', u'35', u'35', u'35', u'35', u'35', u'35', u'35', u'35', u'35', u'35', u'35', u'35', u'35', u'35', u'35', u'35', u'35', u'35', u'35', u'35', u'35', u'35', u'35', u'35', u'35', u'35', u'35', u'35', u'35', u'35', u'35', u'35', u'35', u'35', u'35', u'35', u'35', u'35', u'35', u'35', u'35', u'35', u'35', u'35', u'35', u'35', u'35', u'35', u'35', u'35', u'35', u'35', u'35', u'35', u'35', u'35', u'35', u'35', u'35', u'35', u'35', u'35', u'35', u'35', u'35', u'35', u'35', u'35', u'35', u'35', u'35', u'35', u'35', u'35', u'35', u'35', u'35', u'35', u'35', u'35', u'35', u'35', u'35', u'35', u'35', u'35', u'35', u'35', u'35', u'35', u'35', u'35', u'35', u'35', u'35', u'35', u'35', u'35', u'35', u'35', u'35', u'35', u'35', u'35', u'35', u'35', u'35', u'35', u'35', u'35', u'35', u'35', u'35', u'35', u'35', u'35', u'35', u'35', u'35', u'35', u'35', u'35', u'35', u'35', u'35', u'35', u'35', u'35', u'35', u'35', u'35', u'35', u'35', u'35', u'35', u'35', u'35', u'35', u'35', u'35', u'35', u'35', u'35', u'35', u'35', u'35', u'35', u'35', u'35', u'35', u'35', u'35', u'35', u'35', u'35', u'35', u'35', u'35', u'35', u'35', u'35', u'35', u'35', u'35', u'35', u'35', u'35', u'35', u'35', u'35', u'35', u'35', u'35', u'35', u'35', u'35', u'35', u'35', u'35', u'35', u'35', u'35', u'35', u'35', u'35', u'35', u'35', u'35', u'35', u'35', u'35', u'35', u'35', u'35', u'35', u'35', u'35', u'35', u'35', u'35', u'35', u'35', u'35', u'35', u'35', u'35', u'35', u'35', u'35', u'35', u'35', u'35', u'35', u'35', u'35', u'35', u'35', u'35', u'35', u'35', u'35', u'35', u'35', u'35', u'35', u'35', u'35', u'35', u'35', u'35', u'35', u'35', u'35', u'35', u'35', u'35', u'35', u'35', u'35', u'35', u'35', u'35', u'35', u'35', u'35', u'35', u'35', u'35', u'35', u'35', u'35', u'35', u'35', u'35', u'35', u'35', u'35', u'35', u'35', u'35', u'35', u'35', u'35', u'35', u'35', u'35', u'35', u'35', u'35', u'35', u'35', u'35', u'35', u'35', u'35', u'35', u'35', u'35', u'35', u'35', u'35', u'35', u'35', u'35', u'35', u'35', u'35', u'35', u'35', u'35', u'35', u'35', u'35', u'35', u'35', u'35', u'35', u'35', u'35', u'35', u'35', u'35', u'35', u'35', u'35', u'35', u'35', u'35', u'35', u'35', u'35', u'35', u'35', u'35', u'35', u'35', u'35', u'35', u'35', u'35', u'35', u'35', u'35', u'35', u'35', u'35', u'35', u'35', u'35', u'35', u'35', u'35', u'35', u'35', u'35', u'35', u'35', u'35', u'35', u'35', u'35', u'35', u'35', u'35', u'35', u'35', u'35', u'35', u'35', u'35', u'35', u'35', u'35', u'35', u'35', u'35', u'35', u'35', u'35', u'35', u'35', u'35', u'35', u'35', u'35', u'35', u'35', u'35', u'35', u'35', u'35', u'35', u'35', u'35', u'35', u'35', u'35', u'35', u'35', u'35', u'35', u'35', u'35', u'35', u'35', u'35', u'35', u'35', u'35', u'35', u'35', u'35', u'35', u'35', u'35', u'35', u'35', u'35', u'35', u'35', u'35', u'35', u'35', u'35', u'35', u'35', u'35', u'35', u'35', u'35', u'35', u'35', u'35', u'35', u'35', u'35', u'35', u'35', u'35', u'35', u'35', u'35', u'35', u'35', u'35', u'35', u'35', u'35', u'35', u'35', u'35', u'35', u'35', u'35', u'35', u'35', u'35', u'35', u'35', u'35', u'35', u'35', u'35', u'35', u'35', u'35', u'35', u'35', u'35', u'35', u'35', u'35', u'35', u'35', u'35', u'35', u'35', u'35', u'35', u'35', u'35', u'35', u'35', u'35', u'35', u'35', u'35', u'35', u'35', u'35', u'35', u'35', u'35', u'35', u'35', u'35', u'35', u'35', u'35', u'35', u'35', u'35', u'35', u'35', u'35', u'35', u'35', u'35', u'35', u'35', u'35', u'35', u'35', u'35', u'35', u'35', u'35', u'35', u'35', u'35', u'35', u'35', u'35', u'35', u'35', u'35', u'35', u'35', u'35', u'35', u'35', u'35', u'35', u'35', u'35', u'35', u'35', u'35', u'35', u'35', u'35', u'35', u'35', u'35', u'35', u'35', u'35', u'35', u'35', u'35', u'35', u'35', u'35', u'35', u'35', u'35', u'35', u'35', u'35', u'35', u'35', u'35', u'35', u'35', u'35', u'35', u'35', u'35', u'35', u'35', u'35', u'35', u'35', u'35', u'35', u'35', u'35', u'35', u'35', u'35', u'35', u'35', u'35', u'35', u'35', u'35', u'35', u'35', u'35', u'35', u'35', u'35', u'35', u'35', u'35', u'35', u'35', u'35', u'35', u'35', u'35', u'35', u'35', u'35', u'35', u'35', u'35', u'35', u'35', u'35', u'35', u'35', u'35', u'35', u'35', u'35', u'35', u'35', u'35', u'35', u'35', u'35', u'35', u'35', u'35', u'35', u'35', u'35', u'35', u'35', u'35', u'35', u'35', u'35', u'35', u'35', u'35', u'35', u'35', u'35', u'35', u'35', u'35', u'35', u'35', u'35', u'35', u'35', u'35', u'35', u'35', u'35', u'35', u'35', u'35', u'35', u'35', u'35', u'35', u'35', u'35', u'35', u'35', u'35', u'35', u'35', u'35', u'35', u'35', u'35', u'35', u'35', u'35', u'35', u'35', u'35', u'35', u'35', u'35', u'35', u'35', u'35', u'35', u'35', u'35', u'35', u'35', u'35', u'35', u'35', u'35', u'35', u'35', u'35', u'35', u'35', u'35', u'35', u'35', u'35', u'35', u'35', u'35', u'35', u'35', u'35', u'35', u'35', u'35', u'35', u'35', u'35', u'35', u'35', u'35', u'35', u'35', u'35', u'35', u'35', u'35', u'35', u'35', u'35', u'35', u'35', u'35', u'35', u'35', u'35', u'35', u'35', u'35', u'35', u'35', u'35', u'35', u'35', u'35', u'35', u'35', u'35', u'35', u'35', u'35', u'35', u'35', u'35', u'35', u'35', u'35', u'35', u'35', u'35', u'35', u'35', u'35', u'35', u'35', u'35', u'35', u'35', u'35', u'35', u'35', u'35', u'35', u'35', u'35', u'35', u'35', u'35', u'35', u'35', u'35', u'35', u'35', u'35', u'35', u'35', u'35', u'35', u'35', u'35', u'35', u'35', u'35', u'35', u'35', u'35', u'35', u'35', u'35', u'35', u'35', u'35', u'35', u'35', u'35', u'35', u'35', u'35', u'35', u'35', u'35', u'35', u'35', u'35', u'35', u'35', u'35', u'35', u'35', u'35', u'35', u'35', u'35', u'35', u'35', u'35', u'35', u'35', u'35', u'35', u'35', u'35', u'35', u'35', u'35', u'35', u'35', u'35', u'35', u'35', u'35', u'35', u'35', u'35', u'35', u'35', u'35', u'35', u'35', u'35', u'35', u'35', u'35', u'35', u'35', u'35', u'35', u'35', u'35', u'35', u'35', u'35', u'35', u'35', u'35', u'35', u'35', u'35', u'35', u'35', u'35', u'35', u'35', u'35', u'35', u'35', u'35', u'35', u'35', u'35', u'35', u'35', u'35', u'35', u'35', u'35', u'35', u'35', u'35', u'35', u'35', u'35', u'35', u'35', u'35', u'35', u'35', u'35', u'35', u'35', u'35', u'35', u'35', u'35', u'35', u'35', u'35', u'35', u'35', u'35', u'35', u'35', u'35', u'35', u'35', u'35', u'35', u'35', u'35', u'35', u'35', u'35', u'35', u'35', u'35', u'35', u'35', u'35', u'35', u'35', u'35', u'35', u'35', u'35', u'35', u'35', u'35', u'35', u'35', u'35', u'35', u'35', u'35', u'35', u'35', u'35', u'35', u'35', u'35', u'35', u'35', u'35', u'35', u'35', u'35', u'35', u'35', u'35', u'35', u'35', u'35', u'35', u'35', u'35', u'35', u'35', u'35', u'35', u'35', u'35', u'35', u'35', u'35', u'35', u'35', u'35', u'35', u'35', u'35', u'35', u'35', u'35', u'35', u'35', u'35', u'35', u'35', u'35', u'35', u'35', u'35', u'35', u'35', u'35', u'35', u'35', u'35', u'35', u'35', u'35', u'35', u'35', u'35', u'35', u'35', u'35', u'35', u'35', u'35', u'35', u'35', u'35', u'35', u'35', u'35', u'35', u'35', u'35', u'35', u'35', u'35', u'35', u'35', u'35', u'35', u'35', u'35', u'35', u'35', u'35', u'35', u'35', u'35', u'35', u'35', u'35', u'35', u'35', u'35', u'35', u'35', u'35', u'35', u'35', u'35', u'35', u'35', u'35', u'35', u'35', u'35', u'35', u'35', u'35', u'35', u'35', u'35', u'35', u'35', u'35', u'35', u'35', u'35', u'35', u'35', u'35', u'35', u'35', u'35', u'35', u'35', u'35', u'35', u'35', u'35', u'35', u'35', u'35', u'35', u'35', u'35', u'35', u'35', u'35', u'35', u'35', u'35', u'35', u'35', u'35', u'35', u'35', u'35', u'35', u'35', u'35', u'35', u'35', u'35', u'35', u'35', u'35', u'35', u'35', u'35', u'35', u'35', u'35', u'35', u'35', u'35', u'35', u'35', u'35', u'35', u'35', u'35', u'35', u'35', u'35', u'35', u'35', u'35', u'35', u'35', u'35', u'35', u'35', u'35', u'35', u'35', u'35', u'35', u'35', u'35', u'35', u'35', u'35', u'35', u'35', u'35', u'35', u'35', u'35', u'35', u'35', u'35', u'35', u'35', u'35', u'35', u'35', u'35', u'35', u'35', u'35', u'35', u'35', u'35', u'35', u'35', u'35', u'35', u'35', u'35', u'35', u'35']\n",
    "print sv.ordered_words()"
   ]
  },
  {
   "cell_type": "code",
   "execution_count": 156,
   "metadata": {
    "collapsed": false
   },
   "outputs": [
    {
     "name": "stdout",
     "output_type": "stream",
     "text": [
      "[0, 2, 3]\n"
     ]
    }
   ],
   "source": [
    "from nltk.tokenize import sent_tokenize\n",
    "import utils\n",
    "import unicodedata\n",
    "import vocabulary\n",
    "reload(utils)\n",
    "reload(vocabulary)\n",
    "sv = vocabulary.SVocabulary()\n",
    "print sv.words_to_ids([1,5,8])"
   ]
  },
  {
   "cell_type": "code",
   "execution_count": 62,
   "metadata": {
    "collapsed": false
   },
   "outputs": [
    {
     "name": "stdout",
     "output_type": "stream",
     "text": [
      "[[u'Only', u'January', u'2000', u',', u'when', u'the', u'America', u'Online-Time', u'Warner', u'merger', u'was', u'announced', u',', u'and', u'April', u'1998', u'(', u'the', u'Citicorp-Travelers', u'deal', u')', u'were', u'bigger..'], [u'Under', u'the', u'terms', u'of', u'the', u'revised', u'offer', u',', u'the', u'buyout', u'firms', u'--', u'the', u'Blackstone', u'Group', u',', u'Kohlberg', u'Kravis', u'Roberts', u',', u'the', u'Texas', u'Pacific', u'Group', u'and', u'a', u'unit', u'of', u'Goldman', u'Sachs', u'--', u'will', u'start', u'a', u'$', u'46-a-share', u'tender', u'offer', u'for', u'20', u'business', u'days', u'starting', u'on', u'or', u'before', u'June', u'14', u'.']]\n"
     ]
    }
   ],
   "source": [
    "import unicodedata\n",
    "ssstest = [word_tokenize(unicode(s.strip())) for s in open('./tmp.txt')]\n",
    "print ssstest"
   ]
  },
  {
   "cell_type": "code",
   "execution_count": 1,
   "metadata": {
    "collapsed": false
   },
   "outputs": [
    {
     "name": "stderr",
     "output_type": "stream",
     "text": [
      "/usr/local/lib/python2.7/dist-packages/ipykernel/__main__.py:3: DeprecationWarning: the sets module is deprecated\n",
      "  app.launch_new_instance()\n"
     ]
    },
    {
     "ename": "IOError",
     "evalue": "[Errno 2] No such file or directory: 'togds.txt'",
     "output_type": "error",
     "traceback": [
      "\u001b[1;31m---------------------------------------------------------------------------\u001b[0m",
      "\u001b[1;31mIOError\u001b[0m                                   Traceback (most recent call last)",
      "\u001b[1;32m<ipython-input-1-8f9b41bf67a7>\u001b[0m in \u001b[0;36m<module>\u001b[1;34m()\u001b[0m\n\u001b[0;32m      3\u001b[0m \u001b[1;32mfrom\u001b[0m \u001b[0msets\u001b[0m \u001b[1;32mimport\u001b[0m \u001b[0mSet\u001b[0m\u001b[1;33m\u001b[0m\u001b[0m\n\u001b[0;32m      4\u001b[0m \u001b[1;33m\u001b[0m\u001b[0m\n\u001b[1;32m----> 5\u001b[1;33m \u001b[0mftogds\u001b[0m \u001b[1;33m=\u001b[0m \u001b[0mopen\u001b[0m\u001b[1;33m(\u001b[0m\u001b[1;34m\"togds.txt\"\u001b[0m\u001b[1;33m,\u001b[0m \u001b[1;34m\"r\"\u001b[0m\u001b[1;33m)\u001b[0m\u001b[1;33m\u001b[0m\u001b[0m\n\u001b[0m\u001b[0;32m      6\u001b[0m \u001b[1;33m\u001b[0m\u001b[0m\n\u001b[0;32m      7\u001b[0m \u001b[0mdto\u001b[0m \u001b[1;33m=\u001b[0m \u001b[1;33m{\u001b[0m\u001b[1;33m}\u001b[0m\u001b[1;33m\u001b[0m\u001b[0m\n",
      "\u001b[1;31mIOError\u001b[0m: [Errno 2] No such file or directory: 'togds.txt'"
     ]
    }
   ],
   "source": [
    "import xml.etree.ElementTree as ET\n",
    "import nltk\n",
    "from sets import Set\n",
    "\n",
    "ftogds = open(\"togds.txt\", \"r\")\n",
    "\n",
    "dto = {}\n",
    "dgs ={}\n",
    "\n",
    "for line in ftogds:\n",
    "    fields = line.split(',')\n",
    "    dto[fields[0]] = Set([])\n",
    "\n",
    "ftogds.close()\n",
    "\n",
    "ftogds = open(\"togds.txt\", \"r\")\n",
    "\n",
    "for line in ftogds:\n",
    "    fields = line.split(',')\n",
    "    oname = fields[1].encode('utf-8').strip().lower()\n",
    "    if oname.split(' ')[-1][0:2] == 'in' or oname.split(' ')[-1][0:2] == 'co':\n",
    "        #cut from end to the last ' '\n",
    "        oname = ' '.join(oname.split(' ')[:-1])\n",
    "    dto[fields[0]].add(oname)\n",
    "    sss = fields[4]\n",
    "    if sss[-1]=='\\n':\n",
    "        sss = sss[:-1]\n",
    "    dgs[fields[2]]=str(int(float(sss)*1000000000.0)/12000000+37)\n",
    "ftogds.close()\n",
    "\n",
    "ftodgs = open(\"togds.txt\", 'r')\n",
    "fall = open('all.txt', 'w')\n",
    "\n",
    "for line in ftodgs:\n",
    "    fields = line.split(',')\n",
    "    ticker  = fields[0]\n",
    "    guid = fields[2]\n",
    "    \n",
    "    fin = 'nyt'+'/'+str(guid)+'.xml'\n",
    "    f = open(fin, 'r')\n",
    "\n",
    "    '''\n",
    "    this is the final step, well, almost, before the merge\n",
    "    '''\n",
    "    tree = ET.parse(fin)\n",
    "\n",
    "    for block in tree.getroot().iter('block'):\n",
    "        if block.get('class') == 'full_text':\n",
    "            for p in block.iter('p'):\n",
    "                \n",
    "                g = open('./tmp.txt','w')\n",
    "                g.write(p.text+'\\n')\n",
    "                g.close()\n",
    "                corpus = nltk.corpus.PlaintextCorpusReader('./', 'tmp.txt')\n",
    "                sentences = [' '.join(k) for k in corpus.sents()]\n",
    "                for sentence in sentences:\n",
    "                    done = False\n",
    "                    for o in dto[ticker]:\n",
    "                        if o.strip().lower() in sentence.strip().lower() and not done:\n",
    "                            fall.write(dgs[guid]+'|'+sentence.encode('utf-8')+'\\n')\n",
    "                            done = True\n",
    "    f.close()\n",
    "\n",
    "fall.close()\n",
    "ftogds.close()"
   ]
  },
  {
   "cell_type": "code",
   "execution_count": 9,
   "metadata": {
    "collapsed": false
   },
   "outputs": [
    {
     "name": "stdout",
     "output_type": "stream",
     "text": [
      "130051\n",
      "Counter({'p': 67167, 'n': 62551, '0': 333})\n"
     ]
    }
   ],
   "source": [
    "from sets import Set\n",
    "import numpy as np\n",
    "from collections import Counter\n",
    "\n",
    "s = ['0' if float(s.strip()) == 0.0 else 'p' if float(s.strip()) > 0.0 else 'n' for s in open('../nyt/senti.full.txt')]\n",
    "print len(s)\n",
    "print Counter(s)\n",
    "t = Set(s)\n",
    "tl = list(t)\n",
    "tl.sort()\n",
    "#print len(t)\n",
    "#print tl\n",
    "gg = open('s.n0p.full.txt', 'w')\n",
    "for i in s:\n",
    "    gg.write(i+'\\n')\n",
    "gg.close()\n"
   ]
  },
  {
   "cell_type": "code",
   "execution_count": 151,
   "metadata": {
    "collapsed": false
   },
   "outputs": [
    {
     "name": "stdout",
     "output_type": "stream",
     "text": [
      "{0: 1, 1: 3, 2: 5, 3: 8, 4: 9, 5: 10, 6: 11, 7: 12, 8: 13, 9: 14, 10: 15, 11: 16, 12: 17, 13: 18, 14: 19, 15: 20, 16: 21, 17: 22, 18: 23, 19: 24, 20: 25, 21: 26, 22: 27, 23: 28, 24: 29, 25: 30, 26: 31, 27: 32, 28: 33, 29: 34, 30: 35, 31: 36, 32: 37, 33: 38, 34: 39, 35: 40, 36: 41, 37: 42, 38: 43, 39: 44, 40: 45, 41: 46, 42: 47, 43: 48, 44: 49, 45: 50, 46: 51, 47: 52, 48: 53, 49: 54, 50: 55, 51: 56, 52: 57, 53: 59, 54: 61, 55: 62, 56: 63, 57: 70, 58: 71, 59: 72, 60: 75, 61: 76, 62: 78, 63: 81}\n"
     ]
    }
   ],
   "source": [
    "vocab = (1, 3, 5, 8, 9, 10, 11, 12, 13, 14, 15, 16, 17, 18, 19, 20, 21, 22, 23, 24, 25, 26, 27, 28, 29, 30, 31, 32, 33, 34, 35, 36, 37, 38, 39, 40, 41, 42, 43, 44, 45, 46, 47, 48, 49, 50, 51, 52, 53, 54, 55, 56, 57, 59, 61, 62, 63, 70, 71, 72, 75, 76, 78, 81)\n",
    "a = dict(enumerate(vocab))\n",
    "print a"
   ]
  },
  {
   "cell_type": "code",
   "execution_count": 152,
   "metadata": {
    "collapsed": false
   },
   "outputs": [
    {
     "name": "stdout",
     "output_type": "stream",
     "text": [
      "{0: 1, 1: 3, 2: 5, 3: 8, 4: 9, 5: 10, 6: 11, 7: 12, 8: 13, 9: 14, 10: 15, 11: 16, 12: 17, 13: 18, 14: 19, 15: 20, 16: 21, 17: 22, 18: 23, 19: 24, 20: 25, 21: 26, 22: 27, 23: 28, 24: 29, 25: 30, 26: 31, 27: 32, 28: 33, 29: 34, 30: 35, 31: 36, 32: 37, 33: 38, 34: 39, 35: 40, 36: 41, 37: 42, 38: 43, 39: 44, 40: 45, 41: 46, 42: 47, 43: 48, 44: 49, 45: 50, 46: 51, 47: 52, 48: 53, 49: 54, 50: 55, 51: 56, 52: 57, 53: 59, 54: 61, 55: 62, 56: 63, 57: 70, 58: 71, 59: 72, 60: 75, 61: 76, 62: 78, 63: 81}\n",
      "{1: 0, 3: 1, 5: 2, 8: 3, 9: 4, 10: 5, 11: 6, 12: 7, 13: 8, 14: 9, 15: 10, 16: 11, 17: 12, 18: 13, 19: 14, 20: 15, 21: 16, 22: 17, 23: 18, 24: 19, 25: 20, 26: 21, 27: 22, 28: 23, 29: 24, 30: 25, 31: 26, 32: 27, 33: 28, 34: 29, 35: 30, 36: 31, 37: 32, 38: 33, 39: 34, 40: 35, 41: 36, 42: 37, 43: 38, 44: 39, 45: 40, 46: 41, 47: 42, 48: 43, 49: 44, 50: 45, 51: 46, 52: 47, 53: 48, 54: 49, 55: 50, 56: 51, 57: 52, 59: 53, 61: 54, 62: 55, 63: 56, 70: 57, 71: 58, 72: 59, 75: 60, 76: 61, 78: 62, 81: 63}\n"
     ]
    }
   ],
   "source": [
    "print {k:v for k,v in a.iteritems()}\n",
    "print {k:v for v,k in a.iteritems()}\n",
    "\n"
   ]
  },
  {
   "cell_type": "code",
   "execution_count": 12,
   "metadata": {
    "collapsed": false
   },
   "outputs": [
    {
     "name": "stdout",
     "output_type": "stream",
     "text": [
      "{0: 'n', 1: '0', 2: 'p'} {'0': 1, 'p': 2, 'n': 0} 3 3\n"
     ]
    }
   ],
   "source": [
    "a = dict(enumerate(['n', '0', 'p']))\n",
    "b = {v:k for k,v in a.iteritems()}\n",
    "print a, b, len(a), len(b)"
   ]
  },
  {
   "cell_type": "code",
   "execution_count": null,
   "metadata": {
    "collapsed": true
   },
   "outputs": [],
   "source": []
  }
 ],
 "metadata": {
  "kernelspec": {
   "display_name": "Python 2",
   "language": "python",
   "name": "python2"
  },
  "language_info": {
   "codemirror_mode": {
    "name": "ipython",
    "version": 2
   },
   "file_extension": ".py",
   "mimetype": "text/x-python",
   "name": "python",
   "nbconvert_exporter": "python",
   "pygments_lexer": "ipython2",
   "version": "2.7.6"
  }
 },
 "nbformat": 4,
 "nbformat_minor": 0
}
